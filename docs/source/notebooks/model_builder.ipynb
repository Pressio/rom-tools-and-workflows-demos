{
 "cells": [
  {
   "cell_type": "markdown",
   "id": "f389f465-1007-443d-873b-d27bfa74cbc7",
   "metadata": {},
   "source": [
    "# Basic model builder tutorial\n",
    "\n",
    "In this tutorial you will learn the basics of contructing a model_builder interface.\n",
    "\n",
    "In our example, we construct a model_builder for a ROM of the advection diffusion equation. \n",
    "\n",
    "We will wrap around the adr_1d.py code.\n"
   ]
  },
  {
   "cell_type": "markdown",
   "id": "d6427e21",
   "metadata": {},
   "source": [
    "## Modules\n",
    "Here are the relevant modules for this example."
   ]
  },
  {
   "cell_type": "code",
   "execution_count": 6,
   "id": "358fb709-9c81-45a3-a871-2549de121580",
   "metadata": {},
   "outputs": [],
   "source": [
    "%%capture\n",
    "import romtools\n",
    "import os\n",
    "import numpy as np\n",
    "from matplotlib import pyplot as plt\n",
    "from romtools.workflows import sampling\n",
    "from romtools.workflows import ParameterSpace\n",
    "import sys\n",
    "sys.path.append('adr_1d/')\n",
    "from adr_1d import advectionDiffusionProblem"
   ]
  },
  {
   "cell_type": "markdown",
   "id": "52843688",
   "metadata": {},
   "source": [
    "## ROM Model\n",
    "Here, we will interface around a ROM model for solving the 1D advection diffusion problem.\n",
    "The model code is given in adr_1d/adr_1d_rom.py, and it solves a ROM of the 1d advection diffusion equation:\n",
    "\n",
    "$$\n",
    "c u_{x} - \\nu * u_{xx} = 1\n",
    "$$\n",
    "\n",
    "To run the code, we require:\n",
    "\n",
    "- A file `params.dat` is required in the run directory. This .dat file contains the parameters `c` and `nu`.\n",
    "\n",
    "- A `rom_data.npz` file in an `offline_data_directory` containing the basis, Phi, and reduced operators for the diffusion and reaction term.\n",
    "    The code is run as \n",
    "    \n",
    "    `python adr_1d_rom.py --offline_data_dir = path_to_offline_data_directory`\n",
    " \n",
    "Running the code outputs a `solution.npz` file with the keys `x` (grid) and `u` (solution)."
   ]
  },
  {
   "cell_type": "markdown",
   "id": "1fbbdae6",
   "metadata": {},
   "source": [
    "We will start with defining a ROM class that meets the romtools model API"
   ]
  },
  {
   "cell_type": "code",
   "execution_count": 7,
   "id": "b1ffa4be-246c-44a9-b486-f517b9f7acb9",
   "metadata": {},
   "outputs": [],
   "source": [
    "class adrRom:\n",
    "    def __init__(self,base_dir,offline_directory,):\n",
    "        self.offline_directory_ = offline_directory\n",
    "        self.exec_dir_ = base_dir + '/adr_1d/'\n",
    "\n",
    "    def populate_run_directory(self, run_directory: str, parameter_sample: dict):\n",
    "        # Here, we need to make a params.dat file in the run_directory\n",
    "        c = parameter_sample['c']\n",
    "        nu = parameter_sample['nu']\n",
    "        np.savetxt(run_directory + '/params.dat',np.array([c,nu]))\n",
    "\n",
    "    def run_model(self, run_directory: str, parameter_sample: dict):\n",
    "        os.chdir(run_directory)\n",
    "        os.system('python ' + self.exec_dir_ + '/adr_1d_rom.py -offline_data_dir ' + self.offline_directory_)\n",
    "        return 0"
   ]
  },
  {
   "cell_type": "markdown",
   "id": "3d701eb5",
   "metadata": {},
   "source": [
    "## Constructing the Model Builder\n",
    "Now, we can construct the model builder, which should return an adrRom. \n",
    "\n",
    "The main logic that we need to add is how to construct the basis given training directories."
   ]
  },
  {
   "cell_type": "code",
   "execution_count": 8,
   "id": "b1115b8d-0859-4a6a-ae0f-8cf8c888650c",
   "metadata": {},
   "outputs": [],
   "source": [
    "class AdrRomModelBuilder:\n",
    "    def __init__(self,myFom,adrRomFunctor):\n",
    "        self.myFom_ = myFom\n",
    "        self.adrRomFunctor_ = adrRomFunctor\n",
    "        self.base_dir_ = os.getcwd()\n",
    "        \n",
    "    def build_from_training_dirs(self,offline_data_dir,training_dirs):\n",
    "        # The offline_data_dir is a location where we should store any data required for running our ROMs\n",
    "        # (e.g., input yamls, precomputed operators). For workflows leveraging the model builders, romtools will\n",
    "        # create these directories\n",
    "        \n",
    "        #Similar, training_dirs is a list of directories where our FOMs have been run and training data is stored.\n",
    "\n",
    "        # The advection diffusion FOM saves a solution.npz file with a key word 'u' containing the solution for each solution\n",
    "        # We will loop through these solutions to construct a snapshot matrix\n",
    "        for (i,training_dir) in enumerate(training_dirs):\n",
    "            u = np.load(training_dir + '/solution.npz')['u']\n",
    "            if i == 0:\n",
    "                snapshots = u[:,None]\n",
    "            else:\n",
    "                snapshots = np.append(snapshots,u[:,None],axis=1)\n",
    "\n",
    "        # We now have our snapshot matrix. We can now assemble our basis. Here we will just do a reduced basis\n",
    "        # Note that ROM tools requires the snapshots to be in tensor form (n_vars, n_dofs , n_snaps)\n",
    "        my_trial_space = romtools.vector_space.DictionaryVectorSpace(snapshots[None])\n",
    "\n",
    "        # We can now assemble our ROM. First, grab the basis for the state variable \n",
    "        basis = my_trial_space.get_basis()[0]\n",
    "\n",
    "        # We need to instatiate a realization of the FOM to get access to the FOM operators\n",
    "        #Let's assemble the ROM operators\n",
    "        Adr = basis.transpose() @ self.myFom_.Ad_ @ basis\n",
    "        Acr = basis.transpose() @ self.myFom_.Ac_ @ basis\n",
    "        fr = basis.transpose() @ self.myFom_.f_\n",
    "\n",
    "        #We will save this to the offline_data_dir\n",
    "        # Note we will also save the FOM operators so that we can evaluate the FOM\n",
    "        # residual we if want\n",
    "        np.savez(offline_data_dir + '/rom_data',Adr=Adr,Acr=Acr,fr=fr,basis=basis,\n",
    "                Ac=self.myFom_.Ac_,Ad=self.myFom_.Ad_,f=self.myFom_.f_)\n",
    "\n",
    "        #Now, we can instatiate the ROM:\n",
    "        myRom = self.adrRomFunctor_(self.base_dir_,offline_data_dir)\n",
    "        return myRom"
   ]
  },
  {
   "cell_type": "markdown",
   "id": "4bbf3658",
   "metadata": {},
   "source": [
    "That's it! This model builder can be used in, *e.g.*, a greedy workflow"
   ]
  },
  {
   "cell_type": "markdown",
   "id": "5941a946",
   "metadata": {},
   "source": [
    "## Testing the Model Builder\n",
    "Let's give this model builder a try.\n",
    "\n",
    "First, let's create some training data following the basic_sampling tutorial."
   ]
  },
  {
   "cell_type": "code",
   "execution_count": 10,
   "id": "b05c0ec9-c35a-4968-a7cf-52e62426d791",
   "metadata": {},
   "outputs": [
    {
     "ename": "SyntaxError",
     "evalue": "invalid syntax (parameter_space.ipynb, line 18)",
     "output_type": "error",
     "traceback": [
      "Traceback \u001b[0;36m(most recent call last)\u001b[0m:\n",
      "\u001b[0m  File \u001b[1;32m~/.pyenv/versions/3.11.9/lib/python3.11/site-packages/IPython/core/interactiveshell.py:3577\u001b[0m in \u001b[1;35mrun_code\u001b[0m\n    exec(code_obj, self.user_global_ns, self.user_ns)\u001b[0m\n",
      "\u001b[0m  Cell \u001b[1;32mIn[10], line 4\u001b[0m\n    from ipynb.fs.full.parameter_space import BasicParameterSpace\u001b[0m\n",
      "\u001b[0m  File \u001b[1;32m<frozen importlib._bootstrap>:1176\u001b[0m in \u001b[1;35m_find_and_load\u001b[0m\n",
      "\u001b[0m  File \u001b[1;32m<frozen importlib._bootstrap>:1147\u001b[0m in \u001b[1;35m_find_and_load_unlocked\u001b[0m\n",
      "\u001b[0m  File \u001b[1;32m<frozen importlib._bootstrap>:690\u001b[0m in \u001b[1;35m_load_unlocked\u001b[0m\n",
      "\u001b[0m  File \u001b[1;32m<frozen importlib._bootstrap_external>:936\u001b[0m in \u001b[1;35mexec_module\u001b[0m\n",
      "\u001b[0;36m  File \u001b[0;32m~/.pyenv/versions/3.11.9/lib/python3.11/site-packages/ipynb/fs/full/__init__.py:43\u001b[0;36m in \u001b[0;35mget_code\u001b[0;36m\n\u001b[0;31m    return self.source_to_code(code_from_ipynb(nb), self.path)\u001b[0;36m\n",
      "\u001b[0;36m  File \u001b[0;32m~/codes/pressio/rom-tools-and-workflows-demos/docs/source/notebooks/parameter_space.ipynb:18\u001b[0;36m\u001b[0m\n\u001b[0;31m    \"metadata\": {},\u001b[0m\n\u001b[0m    ^\u001b[0m\n\u001b[0;31mSyntaxError\u001b[0m\u001b[0;31m:\u001b[0m invalid syntax\n"
     ]
    }
   ],
   "source": [
    "from ipynb.fs.full.external_model import adrExternalRomToolsModel\n",
    "myModel = adrExternalRomToolsModel()\n",
    "\n",
    "from ipynb.fs.full.parameter_space import BasicParameterSpace\n",
    "myParameterSpace = BasicParameterSpace()"
   ]
  },
  {
   "cell_type": "markdown",
   "id": "7df69b00",
   "metadata": {},
   "source": [
    "The sampling algorithm requires a directory argument of where to put all the generated samples, files, etc."
   ]
  },
  {
   "cell_type": "code",
   "execution_count": null,
   "id": "4d8c53ff",
   "metadata": {},
   "outputs": [],
   "source": [
    "work_directory = os.getcwd() + '/model_builder_tutorial/'"
   ]
  },
  {
   "cell_type": "markdown",
   "id": "41922394",
   "metadata": {},
   "source": [
    "Now we can run the sampling algorithm."
   ]
  },
  {
   "cell_type": "code",
   "execution_count": null,
   "id": "c860bc8b",
   "metadata": {},
   "outputs": [],
   "source": [
    "sample_directories = sampling.run_sampling(myModel,myParameterSpace,work_directory,number_of_samples=5)"
   ]
  },
  {
   "cell_type": "markdown",
   "id": "e2444813",
   "metadata": {},
   "source": [
    "Great! Now, let's create our `modelBuilder`.\n",
    "\n",
    "To build an intrusive ROM, we need access to the operators of the FOM."
   ]
  },
  {
   "cell_type": "code",
   "execution_count": null,
   "id": "39df9105-d79a-44a6-8399-04cee6914135",
   "metadata": {},
   "outputs": [],
   "source": [
    "myIntrusiveFom = advectionDiffusionProblem(nx=33)\n",
    "myModelBuilder = AdrRomModelBuilder(myIntrusiveFom,adrRom)"
   ]
  },
  {
   "cell_type": "markdown",
   "id": "716a7180",
   "metadata": {},
   "source": [
    "Let's use this to build a ROM model using the data we just generated in our FOM sampling.\n",
    "\n",
    "We will create a directory for our offline data (e.g., rom bases, etc.)."
   ]
  },
  {
   "cell_type": "code",
   "execution_count": null,
   "id": "d0c4030e",
   "metadata": {},
   "outputs": [],
   "source": [
    "offline_data_dir =  os.getcwd() + '/model_builder_example_offline_data'\n",
    "if os.path.isdir(offline_data_dir):\n",
    "    pass\n",
    "else:\n",
    "    os.mkdir(offline_data_dir)\n",
    "myRomModel = myModelBuilder.build_from_training_dirs(offline_data_dir,sample_directories)"
   ]
  },
  {
   "cell_type": "markdown",
   "id": "8eece969",
   "metadata": {},
   "source": [
    "Let's test running our model and comparing it to the FOM!\n",
    "\n",
    "First, let's make a dictionary that is a stand in for the parameter space."
   ]
  },
  {
   "cell_type": "code",
   "execution_count": null,
   "id": "55ac49c2-2b1a-4df7-bedb-ea897585e656",
   "metadata": {},
   "outputs": [],
   "source": [
    "parameter_sample = {}\n",
    "parameter_sample['c'] = 0.5\n",
    "parameter_sample['nu'] = 1e-1\n",
    "run_directory = os.getcwd()"
   ]
  },
  {
   "cell_type": "markdown",
   "id": "f936b3cf",
   "metadata": {},
   "source": [
    "Now, let's run the ROM and plot the solution."
   ]
  },
  {
   "cell_type": "code",
   "execution_count": null,
   "id": "1d627557",
   "metadata": {},
   "outputs": [],
   "source": [
    "myRomModel.populate_run_directory(run_directory,parameter_sample)\n",
    "myRomModel.run_model(run_directory,parameter_sample)\n",
    "rom_solution = np.load(run_directory + '/solution.npz')\n",
    "plt.plot(rom_solution['x'],rom_solution['u'],color='blue',label='ROM')\n",
    "u_rom = rom_solution['u']"
   ]
  },
  {
   "cell_type": "markdown",
   "id": "d066862c",
   "metadata": {},
   "source": [
    "And now, let's run the FOM and plot the solution."
   ]
  },
  {
   "cell_type": "code",
   "execution_count": null,
   "id": "ccf4d76a",
   "metadata": {},
   "outputs": [],
   "source": [
    "myModel.populate_run_directory(run_directory,parameter_sample)\n",
    "myModel.run_model(run_directory,parameter_sample)\n",
    "fom_solution = np.load(run_directory + '/solution.npz')    \n",
    "u_fom = fom_solution['u']\n",
    "plt.plot(fom_solution['x'],fom_solution['u'],color='green',label='FOM')\n",
    "plt.show()"
   ]
  },
  {
   "cell_type": "markdown",
   "id": "946f9378",
   "metadata": {},
   "source": [
    "Finally, we can calculate the ROM-FOM error."
   ]
  },
  {
   "cell_type": "code",
   "execution_count": null,
   "id": "87634a81",
   "metadata": {},
   "outputs": [],
   "source": [
    "print('ROM-FOM error = ' , np.linalg.norm(u_rom - u_fom)/np.linalg.norm(u_fom))"
   ]
  }
 ],
 "metadata": {
  "kernelspec": {
   "display_name": "Python 3 (ipykernel)",
   "language": "python",
   "name": "python3"
  },
  "language_info": {
   "codemirror_mode": {
    "name": "ipython",
    "version": 3
   },
   "file_extension": ".py",
   "mimetype": "text/x-python",
   "name": "python",
   "nbconvert_exporter": "python",
   "pygments_lexer": "ipython3",
   "version": "3.11.9"
  }
 },
 "nbformat": 4,
 "nbformat_minor": 5
}
