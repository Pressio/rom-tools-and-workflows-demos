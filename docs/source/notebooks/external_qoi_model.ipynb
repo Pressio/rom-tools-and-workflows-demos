{
 "cells": [
  {
   "cell_type": "markdown",
   "id": "f389f465-1007-443d-873b-d27bfa74cbc7",
   "metadata": {},
   "source": [
    "# External QoiModel tutorial\n",
    "\n",
    "In this tutorial you will learn the basics of the `QoiModel` interface. The `QoIModel` interface is almost identical to the `Model` interface,\n",
    "but has an additional method called `compute_qoi()` where it returns a (usually scalar) quantity of interest. This type of model is useful for various workflows, such as training a ROM to a desired tolerance on a specified QoI. The API for the model interface is provided [here](https://pressio.github.io/rom-tools-and-workflows/romtools/workflows/models.html).\n"
   ]
  },
  {
   "cell_type": "markdown",
   "id": "81661d69",
   "metadata": {},
   "source": [
    "## Modules\n",
    "Here are the relevant modules for this example."
   ]
  },
  {
   "cell_type": "code",
   "execution_count": null,
   "id": "358fb709-9c81-45a3-a871-2549de121580",
   "metadata": {},
   "outputs": [],
   "source": [
    "%%capture\n",
    "import romtools\n",
    "import os\n",
    "import numpy as np\n",
    "from matplotlib import pyplot as plt\n",
    "from romtools.workflows import models"
   ]
  },
  {
   "cell_type": "markdown",
   "id": "a1c0d073",
   "metadata": {},
   "source": [
    "## Model Definition\n",
    "As a starting point, we will use the model created in the `external_model` tutorial."
   ]
  },
  {
   "cell_type": "code",
   "execution_count": null,
   "id": "b1ffa4be-246c-44a9-b486-f517b9f7acb9",
   "metadata": {},
   "outputs": [],
   "source": [
    "from ipynb.fs.full.external_model import adrExternalRomToolsModel"
   ]
  },
  {
   "cell_type": "markdown",
   "id": "f8d5c05e",
   "metadata": {},
   "source": [
    "## Model Class Definition\n",
    "Now, we will create a QoI model. As a QoI, we will take the gradient of the state at the right of the domain."
   ]
  },
  {
   "cell_type": "code",
   "execution_count": null,
   "id": "217759fb-6ec9-4488-897b-e5b4db9f4b2c",
   "metadata": {},
   "outputs": [],
   "source": [
    "class adrExternalRomToolsQoiModel(adrExternalRomToolsModel):\n",
    "        # Our class will inherit all the methods from adrExternalRomToolsModel\n",
    "    \n",
    "    def compute_qoi(self, run_directory: str, parameter_sample: dict):\n",
    "        # Note that compute_qoi is always called after run_model\n",
    "        solution = np.load(run_directory + '/solution.npz')\n",
    "        u = solution['u']\n",
    "        x = solution['x']\n",
    "        dx = x[1] - x[0] #we use a uniform grid\n",
    "        ux_at_right_edge = (0. - u[-1])/dx\n",
    "        return ux_at_right_edge"
   ]
  },
  {
   "cell_type": "markdown",
   "id": "1f21b795",
   "metadata": {},
   "source": [
    "We can now instatiate our QoI."
   ]
  },
  {
   "cell_type": "code",
   "execution_count": null,
   "id": "411588c9",
   "metadata": {},
   "outputs": [],
   "source": [
    "myModel = adrExternalRomToolsQoiModel()"
   ]
  },
  {
   "cell_type": "markdown",
   "id": "665ddbfe",
   "metadata": {},
   "source": [
    "That's it!"
   ]
  },
  {
   "cell_type": "markdown",
   "id": "dfbb0c29",
   "metadata": {},
   "source": [
    "## Example\n",
    "Let's do an example run of the model similar to how it will be used in a workflow.\n",
    "\n",
    "First, let's make a dictionary that is a stand in for the parameter space."
   ]
  },
  {
   "cell_type": "code",
   "execution_count": null,
   "id": "dbf42fd4-340f-4074-9682-69a9df424b26",
   "metadata": {},
   "outputs": [],
   "source": [
    "parameter_sample = {}\n",
    "parameter_sample['c'] = 0.5\n",
    "parameter_sample['nu'] = 1e-1"
   ]
  },
  {
   "cell_type": "markdown",
   "id": "66d99534",
   "metadata": {},
   "source": [
    "Now, let's populate our run directory. In this example, we will just use the current run directory.\n",
    "In a full workflow, romtools will manage creating directories."
   ]
  },
  {
   "cell_type": "code",
   "execution_count": null,
   "id": "32b442c6",
   "metadata": {},
   "outputs": [],
   "source": [
    "myModel.populate_run_directory(os.getcwd(),parameter_sample)"
   ]
  },
  {
   "cell_type": "markdown",
   "id": "7d29ca27",
   "metadata": {},
   "source": [
    "Now, let's run the model and compute the QoI."
   ]
  },
  {
   "cell_type": "code",
   "execution_count": null,
   "id": "8b7ce69d",
   "metadata": {},
   "outputs": [],
   "source": [
    "run_dir = os.getcwd()\n",
    "\n",
    "myModel.run_model(run_dir,parameter_sample)\n",
    "\n",
    "qoi = myModel.compute_qoi(run_dir,parameter_sample)\n",
    "\n",
    "print('The QoI is ' + str(qoi))"
   ]
  },
  {
   "cell_type": "markdown",
   "id": "746f061a",
   "metadata": {},
   "source": [
    "We will finish by cleaning up the files we created."
   ]
  },
  {
   "cell_type": "code",
   "execution_count": null,
   "id": "99887167",
   "metadata": {},
   "outputs": [],
   "source": [
    "%%capture\n",
    "os.system('rm params.dat')\n",
    "os.system('rm solution.npz')"
   ]
  }
 ],
 "metadata": {
  "kernelspec": {
   "display_name": "Python 3 (ipykernel)",
   "language": "python",
   "name": "python3"
  },
  "language_info": {
   "codemirror_mode": {
    "name": "ipython",
    "version": 3
   },
   "file_extension": ".py",
   "mimetype": "text/x-python",
   "name": "python",
   "nbconvert_exporter": "python",
   "pygments_lexer": "ipython3",
   "version": "3.11.9"
  }
 },
 "nbformat": 4,
 "nbformat_minor": 5
}
