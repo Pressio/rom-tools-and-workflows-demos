{
 "cells": [
  {
   "cell_type": "markdown",
   "id": "f389f465-1007-443d-873b-d27bfa74cbc7",
   "metadata": {},
   "source": [
    "# Basic model tutorial\n",
    "\n",
    "In this tutorial you will learn the basics of the model interface for a simple inline python model. The API for the model interface is provided here:\n",
    "\n",
    "https://pressio.github.io/rom-tools-and-workflows/romtools/workflows/models.html\n"
   ]
  },
  {
   "cell_type": "code",
   "execution_count": 30,
   "id": "358fb709-9c81-45a3-a871-2549de121580",
   "metadata": {},
   "outputs": [],
   "source": [
    "#First, let's import the relavant modules:\n",
    "import romtools\n",
    "import numpy as np\n",
    "from matplotlib import pyplot as plt\n",
    "from romtools.workflows import models"
   ]
  },
  {
   "cell_type": "code",
   "execution_count": 32,
   "id": "b1ffa4be-246c-44a9-b486-f517b9f7acb9",
   "metadata": {},
   "outputs": [
    {
     "data": {
      "text/plain": [
       "Text(0, 0.5, '$u$')"
      ]
     },
     "execution_count": 32,
     "metadata": {},
     "output_type": "execute_result"
    },
    {
     "data": {
      "image/png": "[encoded data removed]",
      "text/plain": [
       "<Figure size 640x480 with 1 Axes>"
      ]
     },
     "metadata": {},
     "output_type": "display_data"
    }
   ],
   "source": [
    "'''\n",
    "Here, we will interface around a very basic model for solving the 1D poisson equation.\n",
    "c u_x - nu * u_xx = 1\n",
    "'''\n",
    "# We will start with defining an advection diffusion problem. This class does NOT meet any interface related to romtools\n",
    "class advectionDiffusionProblem:\n",
    "\n",
    "    def __init__(self , nx):\n",
    "        nx_ = nx\n",
    "        self.x_ = np.linspace(0,1,nx)\n",
    "        dx = 1. / (nx - 1)\n",
    "        self.Ad_ = np.zeros((nx,nx))\n",
    "        for i in range(1,nx_ -1):\n",
    "            self.Ad_[i,i] = -2./dx**2\n",
    "            self.Ad_[i,i-1] = 1./dx**2\n",
    "            self.Ad_[i,i+1] = 1./dx**2\n",
    "            \n",
    "        self.Ac_ = np.zeros((nx,nx))\n",
    "        for i in range(1,nx_ -1 ):\n",
    "            self.Ac_[i,i] = 1/dx\n",
    "            self.Ac_[i,i-1] = -1./dx\n",
    "    \n",
    "        self.f_ = np.ones(nx)\n",
    "\n",
    "    def assemble_system(self,c,nu):\n",
    "        self.A_ = c*self.Ac_ - nu*self.Ad_\n",
    "        self.A_[0,0] = 1.\n",
    "        self.A_[-1,-1] = 1.\n",
    "        self.f_[0] = 0.\n",
    "        self.f_[-1] = 0.\n",
    "\n",
    "    def solve(self,c,nu):\n",
    "        self.assemble_system(c,nu)\n",
    "        solution = np.linalg.solve(self.A_,self.f_)\n",
    "        return solution\n",
    "\n",
    "# As an example, we can insatiate this class and solve for a given parameter insance.\n",
    "adr_problem = advectionDiffusionProblem(nx=33)\n",
    "c,nu = 1.,1.e-2\n",
    "u = adr_problem.solve(c,nu)\n",
    "plt.plot(adr_problem.x_,u)\n",
    "plt.xlabel(r'$x$')\n",
    "plt.ylabel(r'$u$')\n"
   ]
  },
  {
   "cell_type": "code",
   "execution_count": 33,
   "id": "217759fb-6ec9-4488-897b-e5b4db9f4b2c",
   "metadata": {},
   "outputs": [],
   "source": [
    "## Now, let's create a romtools wrapper around this that meets the API of the ModelClass\n",
    "class adrRomToolsModel:\n",
    "    def __init__(self,problem: advectionDiffusionProblem):\n",
    "        self.problem_ = advectionDiffusionProblem\n",
    "\n",
    "    def populate_run_directory(self, run_directory: str, parameter_sample: dict):\n",
    "        # In this example, we don't need any offline data to run our model, so this can be empty\n",
    "        pass\n",
    "        \n",
    "    def run_model(self, run_directory: str, parameter_sample: dict):\n",
    "        #parameter sample will come from a ParameterSpace object, and will be a dictionary of the form:\n",
    "        #[{parameter_name},{value}]\n",
    "        c = parameter_sample['c']\n",
    "        nu = parameter_sample['nu']\n",
    "        u = self.problem_.solve(c,nu)\n",
    "        # return 0 for pass\n",
    "        return 0\n",
    "\n",
    "\n",
    "adr_for_romtools = adrRomToolsModel(adr_problem)\n",
    "\n",
    "#That's it! This type of model can be used for running a sampling workflow. "
   ]
  },
  {
   "cell_type": "code",
   "execution_count": null,
   "id": "b1115b8d-0859-4a6a-ae0f-8cf8c888650c",
   "metadata": {},
   "outputs": [],
   "source": []
  }
 ],
 "metadata": {
  "kernelspec": {
   "display_name": "Python 3 (ipykernel)",
   "language": "python",
   "name": "python3"
  },
  "language_info": {
   "codemirror_mode": {
    "name": "ipython",
    "version": 3
   },
   "file_extension": ".py",
   "mimetype": "text/x-python",
   "name": "python",
   "nbconvert_exporter": "python",
   "pygments_lexer": "ipython3",
   "version": "3.12.4"
  }
 },
 "nbformat": 4,
 "nbformat_minor": 5
}
