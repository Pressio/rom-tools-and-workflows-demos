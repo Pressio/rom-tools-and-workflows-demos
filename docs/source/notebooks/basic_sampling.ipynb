{
 "cells": [
  {
   "cell_type": "markdown",
   "id": "f389f465-1007-443d-873b-d27bfa74cbc7",
   "metadata": {},
   "source": [
    "# Basic sampling tutorial\n",
    "\n",
    "In this tutorial you will learn the basics of the sampling workflow. This tutorial builds off of the external model tutorial"
   ]
  },
  {
   "cell_type": "code",
   "execution_count": 7,
   "id": "358fb709-9c81-45a3-a871-2549de121580",
   "metadata": {},
   "outputs": [],
   "source": [
    "#First, let's import the relavant modules:\n",
    "import romtools\n",
    "import os\n",
    "import numpy as np\n",
    "from matplotlib import pyplot as plt\n",
    "from romtools.workflows import sampling\n",
    "from romtools.workflows import ParameterSpace"
   ]
  },
  {
   "cell_type": "code",
   "execution_count": 6,
   "id": "b1ffa4be-246c-44a9-b486-f517b9f7acb9",
   "metadata": {},
   "outputs": [],
   "source": [
    "# First, we are going to create a wrapper around a simple model for the 1D advection diffusion reaction equation\n",
    "# c u_x - nu * u_xx = 1\n",
    "# (see model tutorials )\n",
    "class adrExternalRomToolsModel:\n",
    "    def __init__(self):\n",
    "        # Get path to adr code\n",
    "        self.exec_dir_ = os.getcwd() + '/adr_1d/'\n",
    "        \n",
    "    def populate_run_directory(self, run_directory: str, parameter_sample: dict):\n",
    "        # Here, we need to make a params.dat file in the run_directory\n",
    "        c = parameter_sample['c']\n",
    "        nu = parameter_sample['nu']\n",
    "        np.savetxt(run_directory + '/params.dat',np.array([c,nu]))\n",
    "        \n",
    "    def run_model(self, run_directory: str, parameter_sample: dict):\n",
    "        os.chdir(run_directory)\n",
    "        os.system('python ' + self.exec_dir_ + 'adr_1d.py')\n",
    "        return 0\n",
    "\n",
    "myModel = adrExternalRomToolsModel()"
   ]
  },
  {
   "cell_type": "code",
   "execution_count": 11,
   "id": "217759fb-6ec9-4488-897b-e5b4db9f4b2c",
   "metadata": {},
   "outputs": [],
   "source": [
    "# Next, we are going to construct a parameter space. See the parameter_space tutorial for more details\n",
    "# Here, we will investigate the parameters c \\in U[0.5,1.5], and \\nu \\in U[1e-3,1e-1]\n",
    "class AdrParameterSpace(ParameterSpace):\n",
    "\n",
    "    def __init__(self):\n",
    "        #We will have two variables, c and nu\n",
    "        self.var_names = ['c','nu']\n",
    "\n",
    "        # The dimension of the parameter space is 2 (c and nu)\n",
    "        self.dim_ = 2\n",
    "\n",
    "        # In this example we will consider uncorrelated variables w/ mean [1,2] and standard deviation [0.1,0.2]\n",
    "        self.lower_bounds_ = np.array([0.5,1.e-3])\n",
    "        self.upper_bounds_ = np.array([1e-3,1e-1])\n",
    "        \n",
    "    def get_names(self):\n",
    "        return self.var_names\n",
    "\n",
    "    def get_dimensionality(self):\n",
    "        return self.dim_\n",
    "\n",
    "    def generate_samples(self, number_of_samples: int, seed=None):\n",
    "        samples = np.random.uniform(self.lower_bounds_,self.upper_bounds_,size=(number_of_samples,self.dim_))\n",
    "        return samples\n",
    "\n",
    "myParameterSpace = AdrParameterSpace()"
   ]
  },
  {
   "cell_type": "code",
   "execution_count": 12,
   "id": "8dddecd2-01f7-4b7c-955e-456a1974fefb",
   "metadata": {},
   "outputs": [
    {
     "ename": "NameError",
     "evalue": "name 'run_sampling' is not defined",
     "output_type": "error",
     "traceback": [
      "\u001b[0;31m---------------------------------------------------------------------------\u001b[0m",
      "\u001b[0;31mNameError\u001b[0m                                 Traceback (most recent call last)",
      "Cell \u001b[0;32mIn[12], line 8\u001b[0m\n\u001b[1;32m      1\u001b[0m \u001b[38;5;66;03m#Now, we can run a sampling algorithm (https://pressio.github.io/rom-tools-and-workflows/romtools/workflows/sampling/sampling.html)\u001b[39;00m\n\u001b[1;32m      2\u001b[0m \n\u001b[1;32m      3\u001b[0m \u001b[38;5;66;03m#The sampling algorithm requires a directory argument of where to put all the generated samples, files, etc.\u001b[39;00m\n\u001b[1;32m      5\u001b[0m work_directory \u001b[38;5;241m=\u001b[39m os\u001b[38;5;241m.\u001b[39mgetcwd() \u001b[38;5;241m+\u001b[39m \u001b[38;5;124m'\u001b[39m\u001b[38;5;124m/sampling_tutorial/\u001b[39m\u001b[38;5;124m'\u001b[39m\n\u001b[0;32m----> 8\u001b[0m run_sampling(\n\u001b[1;32m      9\u001b[0m \tmodel \u001b[38;5;241m=\u001b[39m myModel,\n\u001b[1;32m     10\u001b[0m \tparameter_space \u001b[38;5;241m=\u001b[39m myParameterSpace,\n\u001b[1;32m     11\u001b[0m \tabsolute_sampling_directory\u001b[38;5;241m=\u001b[39mwork_directory,\n\u001b[1;32m     12\u001b[0m     number_of_samples \u001b[38;5;241m=\u001b[39m \u001b[38;5;241m5\u001b[39m)\n",
      "\u001b[0;31mNameError\u001b[0m: name 'run_sampling' is not defined"
     ]
    }
   ],
   "source": [
    "#Now, we can run a sampling algorithm (https://pressio.github.io/rom-tools-and-workflows/romtools/workflows/sampling/sampling.html)\n",
    "\n",
    "#The sampling algorithm requires a directory argument of where to put all the generated samples, files, etc.\n",
    "\n",
    "work_directory = os.getcwd() + '/sampling_tutorial/'\n",
    "\n",
    "\n",
    "run_sampling(\n",
    "\tmodel = myModel,\n",
    "\tparameter_space = myParameterSpace,\n",
    "\tabsolute_sampling_directory=work_directory,\n",
    "    number_of_samples = 5)"
   ]
  },
  {
   "cell_type": "code",
   "execution_count": 9,
   "id": "8d254c75-a66f-4168-9815-8674e11ec572",
   "metadata": {},
   "outputs": [
    {
     "name": "stdout",
     "output_type": "stream",
     "text": [
      "The dimension of the vector space is  (3, 500, 30)\n",
      "The number of basis vectors in my vector space is  30\n"
     ]
    }
   ],
   "source": [
    "# We can check the dimension of the vector space\n",
    "print(\"The dimension of the vector space is \" , my_affine_vector_space.extents())\n",
    "print(\"The number of basis vectors in my vector space is \" , my_affine_vector_space.extents()[-1])"
   ]
  }
 ],
 "metadata": {
  "kernelspec": {
   "display_name": "Python 3 (ipykernel)",
   "language": "python",
   "name": "python3"
  },
  "language_info": {
   "codemirror_mode": {
    "name": "ipython",
    "version": 3
   },
   "file_extension": ".py",
   "mimetype": "text/x-python",
   "name": "python",
   "nbconvert_exporter": "python",
   "pygments_lexer": "ipython3",
   "version": "3.12.4"
  }
 },
 "nbformat": 4,
 "nbformat_minor": 5
}
