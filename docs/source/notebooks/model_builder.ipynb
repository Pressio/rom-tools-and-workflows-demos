{
 "cells": [
  {
   "cell_type": "markdown",
   "id": "f389f465-1007-443d-873b-d27bfa74cbc7",
   "metadata": {},
   "source": [
    "# Basic model builder tutorial\n",
    "\n",
    "In this tutorial you will learn the basics of contructing a model_builder interface.\n",
    "\n",
    "In our example, we construct a model_builder for a ROM of the advection diffusion equation. \n",
    "\n",
    "We will wrap around the adr_1d.py code.\n"
   ]
  },
  {
   "cell_type": "code",
   "execution_count": 1,
   "id": "358fb709-9c81-45a3-a871-2549de121580",
   "metadata": {},
   "outputs": [
    {
     "name": "stdout",
     "output_type": "stream",
     "text": [
      "module 'mpi4py' is not installed\n"
     ]
    }
   ],
   "source": [
    "#First, let's import the relavant modules:\n",
    "import romtools\n",
    "import os\n",
    "import numpy as np\n",
    "from matplotlib import pyplot as plt\n",
    "from romtools.workflows import sampling\n",
    "from romtools.workflows import ParameterSpace\n",
    "import sys\n",
    "sys.path.append('adr_1d/')\n",
    "from adr_1d import advectionDiffusionProblem"
   ]
  },
  {
   "cell_type": "code",
   "execution_count": 5,
   "id": "b1ffa4be-246c-44a9-b486-f517b9f7acb9",
   "metadata": {},
   "outputs": [],
   "source": [
    "'''\n",
    "Here, we will interface around a ROM model for solving the 1D advection diffusion problem.\n",
    "The model code is given in adr_1d/adr_1d_rom.py, and it solves a ROM of the 1d advection diffusion equation:\n",
    "\n",
    "c u_x - nu * u_xx = 1\n",
    "\n",
    "\n",
    "To run the code, we require:\n",
    "    A file \"params.dat\" is required in the run directory. This .dat file contains the parameters c,nu.\n",
    "    A \"rom_data.npz\" file in an \"offline_data_directory\" containing the basis, Phi, and reduced operators for the diffusion and reaction term\n",
    "    The code is run as \"python adr_1d_rom.py --offline_data_dir = path_to_offline_data_directory\n",
    " \n",
    "Running the code outputs a solution.npz file with the keys x (grid) and u (solution)\n",
    "\n",
    "'''\n",
    "\n",
    "# We will start with defining a ROM class that meets the romtools model API\n",
    "class adrRom:\n",
    "    def __init__(self,base_dir,offline_directory,):\n",
    "        self.offline_directory_ = offline_directory\n",
    "        self.exec_dir_ = base_dir + '/adr_1d/'\n",
    "\n",
    "    def populate_run_directory(self, run_directory: str, parameter_sample: dict):\n",
    "        # Here, we need to make a params.dat file in the run_directory\n",
    "        c = parameter_sample['c']\n",
    "        nu = parameter_sample['nu']\n",
    "        np.savetxt(run_directory + '/params.dat',np.array([c,nu]))\n",
    "\n",
    "    def run_model(self, run_directory: str, parameter_sample: dict):\n",
    "        os.chdir(run_directory)\n",
    "        os.system('python ' + self.exec_dir_ + '/adr_1d_rom.py -offline_data_dir ' + self.offline_directory_)\n",
    "        return 0\n"
   ]
  },
  {
   "cell_type": "code",
   "execution_count": 11,
   "id": "b1115b8d-0859-4a6a-ae0f-8cf8c888650c",
   "metadata": {},
   "outputs": [],
   "source": [
    "#Now, we can construct the model builder, which should return an adrRom. \n",
    "#The main logic that we need to add is how to construct the basis given training directories\n",
    "\n",
    "class AdrRomModelBuilder:\n",
    "    def __init__(self,myFom,adrRomFunctor):\n",
    "        self.myFom_ = myFom\n",
    "        self.adrRomFunctor_ = adrRomFunctor\n",
    "        self.base_dir_ = os.getcwd()\n",
    "        \n",
    "    def build_from_training_dirs(self,offline_data_dir,training_dirs):\n",
    "        # The offline_data_dir is a location where we should store any data required for running our ROMs\n",
    "        # (e.g., input yamls, precomputed operators). For workflows leveraging the model builders, romtools will\n",
    "        # create these directories\n",
    "        \n",
    "        #Similar, training_dirs is a list of directories where our FOMs have been run and training data is stored.\n",
    "\n",
    "        # The advection diffusion FOM saves a solution.npz file with a key word 'u' containing the solution for each solution\n",
    "        # We will loop through these solutions to construct a snapshot matrix\n",
    "        for (i,training_dir) in enumerate(training_dirs):\n",
    "            u = np.load(training_dir + '/solution.npz')['u']\n",
    "            if i == 0:\n",
    "                snapshots = u[:,None]\n",
    "            else:\n",
    "                snapshots = np.append(snapshots,u[:,None],axis=1)\n",
    "\n",
    "        # We now have our snapshot matrix. We can now assemble our basis. Here we will just do a reduced basis\n",
    "        # Note that ROM tools requires the snapshots to be in tensor form (n_vars, n_dofs , n_snaps)\n",
    "        my_trial_space = romtools.vector_space.DictionaryVectorSpace(snapshots[None])\n",
    "\n",
    "        # We can now assemble our ROM. First, grab the basis for the state variable \n",
    "        basis = my_trial_space.get_basis()[0]\n",
    "\n",
    "        # We need to instatiate a realization of the FOM to get access to the FOM operators\n",
    "        #Let's assemble the ROM operators\n",
    "        Adr = basis.transpose() @ self.myFom_.Ad_ @ basis\n",
    "        Acr = basis.transpose() @ self.myFom_.Ac_ @ basis\n",
    "        fr = basis.transpose() @ self.myFom_.f_\n",
    "\n",
    "        #We will save this to the offline_data_dir\n",
    "        # Note we will also save the FOM operators so that we can evaluate the FOM\n",
    "        # residual we if want\n",
    "        np.savez(offline_data_dir + '/rom_data',Adr=Adr,Acr=Acr,fr=fr,basis=basis,\n",
    "                Ac=self.myFom_.Ac_,Ad=self.myFom_.Ad_,f=self.myFom_.f_)\n",
    "\n",
    "        #Now, we can instatiate the ROM:\n",
    "        myRom = self.adrRomFunctor_(self.base_dir_,offline_data_dir)\n",
    "        return myRom\n",
    "\n",
    "#That's it! This model builder can be used in, e.g., a greedy workflow"
   ]
  },
  {
   "cell_type": "code",
   "execution_count": 12,
   "id": "b05c0ec9-c35a-4968-a7cf-52e62426d791",
   "metadata": {},
   "outputs": [
    {
     "name": "stdout",
     "output_type": "stream",
     "text": [
      "=======  Sample 0 ============\n",
      "Running\n",
      "Sample complete, run time = 0.14898300170898438\n",
      " \n",
      "=======  Sample 1 ============\n",
      "Running\n",
      "Sample complete, run time = 0.09169697761535645\n",
      " \n",
      "=======  Sample 2 ============\n",
      "Running\n",
      "Sample complete, run time = 0.08579683303833008\n",
      " \n",
      "=======  Sample 3 ============\n",
      "Running\n",
      "Sample complete, run time = 0.09924101829528809\n",
      " \n",
      "=======  Sample 4 ============\n",
      "Running\n",
      "Sample complete, run time = 0.08455801010131836\n",
      " \n"
     ]
    }
   ],
   "source": [
    "#Let's give this model builder a try.\n",
    "if __name__ == \"__main__\":\n",
    "    #First, let's create some training data following the basic_sampling tutorial\n",
    "    from ipynb.fs.full.external_model import adrExternalRomToolsModel\n",
    "    myModel = adrExternalRomToolsModel()\n",
    "    \n",
    "    from ipynb.fs.full.parameter_space import BasicParameterSpace\n",
    "    myParameterSpace = BasicParameterSpace()\n",
    "    \n",
    "    #The sampling algorithm requires a directory argument of where to put all the generated samples, files, etc.\n",
    "    work_directory = os.getcwd() + '/model_builder_tutorial/'\n",
    "\n",
    "    #Now we can run the sampling algorithm.\n",
    "    sample_directories = sampling.run_sampling(myModel,myParameterSpace,work_directory,number_of_samples=5)\n"
   ]
  },
  {
   "cell_type": "code",
   "execution_count": 13,
   "id": "39df9105-d79a-44a6-8399-04cee6914135",
   "metadata": {},
   "outputs": [],
   "source": [
    "    #Great! Now, let's create our modelBuilder\n",
    "    #To build an intrusive ROM, we need access to the operators of the FOM\n",
    "    myIntrusiveFom = advectionDiffusionProblem(nx=33)\n",
    "    myModelBuilder = AdrRomModelBuilder(myIntrusiveFom,adrRom)\n",
    "\n",
    "    #Let's use this to build a ROM model using the data we just generated in our FOM sampling\n",
    "    #We will create a directory for our offline data (e.g., rom bases, etc.)\n",
    "    offline_data_dir =  os.getcwd() + '/model_builder_example_offline_data'\n",
    "    if os.path.isdir(offline_data_dir):\n",
    "        pass\n",
    "    else:\n",
    "        os.mkdir(offline_data_dir)\n",
    "    myRomModel = myModelBuilder.build_from_training_dirs(offline_data_dir,sample_directories)"
   ]
  },
  {
   "cell_type": "code",
   "execution_count": 96,
   "id": "55ac49c2-2b1a-4df7-bedb-ea897585e656",
   "metadata": {},
   "outputs": [
    {
     "name": "stdout",
     "output_type": "stream",
     "text": [
      "ROM-FOM error =  4.2469193422409324e-05\n"
     ]
    },
    {
     "data": {
      "image/png": "[encoded data removed]",
      "text/plain": [
       "<Figure size 640x480 with 1 Axes>"
      ]
     },
     "metadata": {},
     "output_type": "display_data"
    }
   ],
   "source": [
    "\n",
    "    # Let's test running our model and comparing it to the FOM!\n",
    "    parameter_sample = {}\n",
    "    parameter_sample['c'] = 0.5\n",
    "    parameter_sample['nu'] = 1e-1\n",
    "    run_directory = os.getcwd()\n",
    "\n",
    "    #Let's run the ROM\n",
    "    myRomModel.populate_run_directory(run_directory,parameter_sample)\n",
    "    myRomModel.run_model(run_directory,parameter_sample)\n",
    "    rom_solution = np.load(run_directory + '/solution.npz')\n",
    "    plt.plot(rom_solution['x'],rom_solution['u'],color='blue',label='ROM')\n",
    "    u_rom = rom_solution['u']\n",
    "\n",
    "    #Now let's run the FOM\n",
    "    myModel.populate_run_directory(run_directory,parameter_sample)\n",
    "    myModel.run_model(run_directory,parameter_sample)\n",
    "    fom_solution = np.load(run_directory + '/solution.npz')    \n",
    "    u_fom = fom_solution['u']\n",
    "\n",
    "    print('ROM-FOM error = ' , np.linalg.norm(u_rom - u_fom)/np.linalg.norm(u_fom))\n",
    "    plt.plot(fom_solution['x'],fom_solution['u'],color='green',label='FOM')\n",
    "    plt.show()\n",
    "    "
   ]
  }
 ],
 "metadata": {
  "kernelspec": {
   "display_name": "Python 3 (ipykernel)",
   "language": "python",
   "name": "python3"
  },
  "language_info": {
   "codemirror_mode": {
    "name": "ipython",
    "version": 3
   },
   "file_extension": ".py",
   "mimetype": "text/x-python",
   "name": "python",
   "nbconvert_exporter": "python",
   "pygments_lexer": "ipython3",
   "version": "3.9.7"
  }
 },
 "nbformat": 4,
 "nbformat_minor": 5
}
