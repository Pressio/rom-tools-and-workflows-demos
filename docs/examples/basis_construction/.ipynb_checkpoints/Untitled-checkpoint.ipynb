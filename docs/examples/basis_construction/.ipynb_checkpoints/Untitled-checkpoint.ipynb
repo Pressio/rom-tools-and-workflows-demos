{
 "cells": [
  {
   "cell_type": "code",
   "execution_count": 3,
   "id": "df9907bf-625e-47ad-a3fe-36e3e2e9da49",
   "metadata": {},
   "outputs": [],
   "source": [
    "#vector_space tutorial\n",
    "'''\n",
    "This tutorial covers how to construct a vector space in rom-tools\n",
    "Full documentation on the API is given here\n",
    "(https://pressio.github.io/rom-tools-and-workflows/romtools/vector_space.html)\n",
    "'''\n",
    "\n",
    "#First, we will import some relevant modules\n",
    "import romtools\n",
    "import numpy as np\n",
    "from matplotlib import pyplot as plt\n",
    "from romtools import vector_space"
   ]
  },
  {
   "cell_type": "code",
   "execution_count": 4,
   "id": "7fc066f2-e419-4c6b-bb57-099525a796c6",
   "metadata": {},
   "outputs": [
    {
     "data": {
      "image/png": "[encoded data removed]",
      "text/plain": [
       "<Figure size 432x288 with 1 Axes>"
      ]
     },
     "metadata": {
      "needs_background": "light"
     },
     "output_type": "display_data"
    }
   ],
   "source": [
    "#Now, we will load in snapshots from a FOM. Here, we use pre-computed snapshots of the 1D Euler equations obtained using pressio-demo-apps\n",
    "snapshots = np.load('snapshots.npz')['snapshots']\n",
    "\n",
    "## The snapshots are in tensor form:\n",
    "n_vars, nx, nt = snapshots.shape\n",
    "\n",
    "#Let's look at the first density snapshot:\n",
    "\n",
    "plt.plot(snapshots[0,:,0])\n",
    "plt.xlabel(r'$x$')\n",
    "plt.ylabel(r'$\\rho$')\n",
    "plt.show()"
   ]
  },
  {
   "cell_type": "code",
   "execution_count": 6,
   "id": "d06da605-add4-450a-b316-9083f3859c20",
   "metadata": {},
   "outputs": [],
   "source": [
    "'''\n",
    "Now, let's construct a vector space using the snapshots. As a first example, we will construct \n",
    "a vector space that simply uses the snapshots as a basis\n",
    "'''\n",
    "\n",
    "my_full_vector_space = vector_space.DictionaryVectorSpace(snapshots)         \n",
    "\n",
    "'''\n",
    "This returns an instance of the vector space class where the basis is\n",
    "equivalent to the snapshots and there is no affine offset\n",
    "'''\n",
    "assert np.allclose(my_full_vector_space.get_basis(), snapshots)\n",
    "assert np.allclose(my_full_vector_space.get_shift_vector(), 0.)\n"
   ]
  },
  {
   "cell_type": "code",
   "execution_count": 14,
   "id": "326d7042-ae66-4f48-a72e-47a1be02cf5c",
   "metadata": {},
   "outputs": [],
   "source": [
    "'''\n",
    "Now we will do something more complicated by constructing a vector space\n",
    "with an affine offset corresponding to the initial conditions\n",
    "'''\n",
    "\n",
    "# First, create a shifter (which manages the affine offest) to use\n",
    "my_shifter = vector_space.utils.create_firstvec_shifter(snapshots)\n",
    "\n",
    "#We can look at the shift vector\n",
    "shift_vector = my_shifter.get_shift_vector()\n",
    "# The vector should be of shape n_vars , nx\n",
    "assert shift_vector.shape == (n_vars,nx)\n",
    "\n",
    "# Now let's build the vector_space\n",
    "my_shifted_full_vector_space = vector_space.DictionaryVectorSpace(snapshots,shifter=my_shifter)\n",
    "\n",
    "#We now have a completed vector space class"
   ]
  },
  {
   "cell_type": "code",
   "execution_count": null,
   "id": "003ac7a7-59d2-458a-912e-c8e2a116607c",
   "metadata": {},
   "outputs": [],
   "source": []
  }
 ],
 "metadata": {
  "kernelspec": {
   "display_name": "Python 3 (ipykernel)",
   "language": "python",
   "name": "python3"
  },
  "language_info": {
   "codemirror_mode": {
    "name": "ipython",
    "version": 3
   },
   "file_extension": ".py",
   "mimetype": "text/x-python",
   "name": "python",
   "nbconvert_exporter": "python",
   "pygments_lexer": "ipython3",
   "version": "3.9.7"
  }
 },
 "nbformat": 4,
 "nbformat_minor": 5
}
