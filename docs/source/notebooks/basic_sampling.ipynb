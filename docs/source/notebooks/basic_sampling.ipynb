{
 "cells": [
  {
   "cell_type": "markdown",
   "id": "f389f465-1007-443d-873b-d27bfa74cbc7",
   "metadata": {},
   "source": [
    "# Basic sampling tutorial\n",
    "\n",
    "In this tutorial you will learn the basics of the sampling workflow. This tutorial builds off of the external model tutorial"
   ]
  },
  {
   "cell_type": "code",
   "execution_count": 4,
   "id": "358fb709-9c81-45a3-a871-2549de121580",
   "metadata": {},
   "outputs": [],
   "source": [
    "#First, let's import the relavant modules:\n",
    "import romtools\n",
    "import os\n",
    "import numpy as np\n",
    "from matplotlib import pyplot as plt\n",
    "from romtools.workflows import sampling\n",
    "from romtools.workflows import ParameterSpace"
   ]
  },
  {
   "cell_type": "code",
   "execution_count": 6,
   "id": "8dddecd2-01f7-4b7c-955e-456a1974fefb",
   "metadata": {},
   "outputs": [],
   "source": [
    "# #Now, we can run a sampling algorithm (https://pressio.github.io/rom-tools-and-workflows/romtools/workflows/sampling/sampling.html)\n",
    "# if __name__ == \"__main__\":\n",
    "#     # As a starting point, we will use the model for the advection diffusion equation created in the external_model tutorial\n",
    "#     from ipynb.fs.full.external_model import adrExternalRomToolsModel\n",
    "#     myModel = adrExternalRomToolsModel()\n",
    "\n",
    "#     # We will use the parameter space created in the parameter space tutorial\n",
    "#     from ipynb.fs.full.parameter_space import BasicParameterSpace\n",
    "#     myParameterSpace = BasicParameterSpace()\n",
    "\n",
    "#     #The sampling algorithm requires a directory argument of where to put all the generated samples, files, etc.\n",
    "#     work_directory = os.getcwd() + '/sampling_tutorial/'\n",
    "    \n",
    "#     #Now we can run the sampling algorithm.\n",
    "    \n",
    "#     sample_directories = sampling.run_sampling(\n",
    "#     \tmodel = myModel,\n",
    "#     \tparameter_space = myParameterSpace,\n",
    "#     \tabsolute_sampling_directory=work_directory,\n",
    "#         number_of_samples = 5)\n",
    "# #The sample_directories returned by the algorithm contains all the directories that samples were run in:\n",
    "# # work_directory/run_0\n",
    "# # work_directory/run_1\n",
    "# # ...\n",
    "# # work_directory/run_4"
   ]
  },
  {
   "cell_type": "code",
   "execution_count": 7,
   "id": "4d3d83b7-2fa1-47ab-8dd6-f656511fc7fa",
   "metadata": {},
   "outputs": [],
   "source": [
    "# #Now we can look at the solutions\n",
    "# for (i,sample_dir) in enumerate(sample_directories):\n",
    "#     data = np.load(sample_dir + '/solution.npz')\n",
    "#     plt.plot(data['x'],data['u'],label='Run ' + str(i))\n",
    "\n",
    "# plt.legend()\n",
    "# plt.xlabel(r'$x$')\n",
    "# plt.ylabel(r'$u$')\n",
    "# plt.show()\n",
    "\n",
    "# #That's it!"
   ]
  },
  {
   "cell_type": "code",
   "execution_count": null,
   "id": "cc86c4e7",
   "metadata": {},
   "outputs": [],
   "source": []
  }
 ],
 "metadata": {
  "kernelspec": {
   "display_name": "Python 3 (ipykernel)",
   "language": "python",
   "name": "python3"
  },
  "language_info": {
   "codemirror_mode": {
    "name": "ipython",
    "version": 3
   },
   "file_extension": ".py",
   "mimetype": "text/x-python",
   "name": "python",
   "nbconvert_exporter": "python",
   "pygments_lexer": "ipython3",
   "version": "3.11.9"
  }
 },
 "nbformat": 4,
 "nbformat_minor": 5
}
