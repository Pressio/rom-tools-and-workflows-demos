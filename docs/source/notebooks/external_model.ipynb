{
 "cells": [
  {
   "cell_type": "markdown",
   "id": "f389f465-1007-443d-873b-d27bfa74cbc7",
   "metadata": {},
   "source": [
    "# External model tutorial\n",
    "\n",
    "In this tutorial you will learn the basics of the model interface for running an external model. The API for the model interface is provided here:\n",
    "\n",
    "https://pressio.github.io/rom-tools-and-workflows/romtools/workflows/models.html\n"
   ]
  },
  {
   "cell_type": "code",
   "execution_count": 1,
   "id": "358fb709-9c81-45a3-a871-2549de121580",
   "metadata": {},
   "outputs": [],
   "source": [
    "#First, let's import the relavant modules:\n",
    "import romtools\n",
    "import numpy as np\n",
    "from matplotlib import pyplot as plt\n",
    "from romtools.workflows import models\n",
    "import os"
   ]
  },
  {
   "cell_type": "code",
   "execution_count": 2,
   "id": "b1ffa4be-246c-44a9-b486-f517b9f7acb9",
   "metadata": {},
   "outputs": [
    {
     "data": {
      "image/png": "[encoded data removed]",
      "text/plain": [
       "<Figure size 432x288 with 1 Axes>"
      ]
     },
     "metadata": {
      "needs_background": "light"
     },
     "output_type": "display_data"
    }
   ],
   "source": [
    "'''\n",
    "Here, we will interface around a model for solving the 1D advection diffusion problem.\n",
    "The model code is given in adr_1d/adr_1d.py, and it solves the 1d advection diffusion equation:\n",
    "\n",
    "c u_x - nu * u_xx = 1\n",
    "\n",
    "\n",
    "To run the code, a file \"params.dat\" is required in the run directory. \n",
    "This .dat file contains the parameters c,nu. \n",
    "Running the code outputs a solution.npz file with the keys x (grid) and u (solution)\n",
    "\n",
    "'''\n",
    "\n",
    "# Here is an example of how we would run the code\n",
    "if __name__ == \"__main__\":\n",
    "    #First, let's create our parameters\n",
    "    c = 1.\n",
    "    nu = 1.e-2\n",
    "    #Now, we will save them to a file expected by the adr_1d.py code\n",
    "    np.savetxt('params.dat',np.array([c,nu]))\n",
    "\n",
    "    #This is how we would execute our external code\n",
    "    #(For a more sophisticated application, this is likely an mpi call to an executable or\n",
    "    # a submission to the HPCs)\n",
    "    os.system('python adr_1d/adr_1d.py')\n",
    "\n",
    "    #Let's take a peak at a solution\n",
    "    sol = np.load('solution.npz')\n",
    "    plt.plot(sol['x'],sol['u'])\n",
    "    plt.xlabel(r'$x$')\n",
    "    plt.ylabel(r'$u$')\n",
    "\n",
    "    # Now we will clean up the files we created\n",
    "    os.system('rm params.dat')\n",
    "    os.system('rm solution.npz')"
   ]
  },
  {
   "cell_type": "code",
   "execution_count": 3,
   "id": "217759fb-6ec9-4488-897b-e5b4db9f4b2c",
   "metadata": {},
   "outputs": [],
   "source": [
    "## Now, let's create a romtools wrapper around this model that meets the API of the ModelClass\n",
    "class adrExternalRomToolsModel:\n",
    "    def __init__(self):\n",
    "        # Get path to adr code\n",
    "        self.exec_dir_ = os.getcwd() + '/adr_1d/'\n",
    "        \n",
    "    def populate_run_directory(self, run_directory: str, parameter_sample: dict):\n",
    "        # Here, we need to make a params.dat file in the run_directory\n",
    "        c = parameter_sample['c']\n",
    "        nu = parameter_sample['nu']\n",
    "        np.savetxt(run_directory + '/params.dat',np.array([c,nu]))\n",
    "        \n",
    "    def run_model(self, run_directory: str, parameter_sample: dict):\n",
    "        starting_dir = os.getcwd()\n",
    "        os.chdir(run_directory)\n",
    "        os.system('python ' + self.exec_dir_ + 'adr_1d.py')\n",
    "        #To avoid confusion, we will move back to the directory we started from\n",
    "        os.chdir(starting_dir)\n",
    "        return 0\n",
    "\n",
    "#Now let's try initializing the model\n",
    "adr_for_romtools = adrExternalRomToolsModel()\n",
    "\n",
    "#That's it, we can use this in a sampling workflow. "
   ]
  },
  {
   "cell_type": "code",
   "execution_count": 4,
   "id": "acefef0c-1bdc-4755-b726-8026268ced93",
   "metadata": {},
   "outputs": [
    {
     "data": {
      "image/png": "[encoded data removed]",
      "text/plain": [
       "<Figure size 432x288 with 1 Axes>"
      ]
     },
     "metadata": {
      "needs_background": "light"
     },
     "output_type": "display_data"
    }
   ],
   "source": [
    "#Let's do an example run of the model similar to how it will be used in a workflow.\n",
    "\n",
    "\n",
    "if __name__ == \"__main__\":\n",
    "    #Initialize the model\n",
    "    adr_for_romtools = adrExternalRomToolsModel()\n",
    "\n",
    "    #First, let's make a dictionary that is a stand in for the parameter space\n",
    "    parameter_sample = {}\n",
    "    parameter_sample['c'] = 0.5\n",
    "    parameter_sample['nu'] = 1e-1\n",
    "    \n",
    "    #Now, let's populate our run directory. In this example, we will just use the current run directory.\n",
    "    #In a full workflow, romtools will manage creating directories\n",
    "    adr_for_romtools.populate_run_directory(os.getcwd(),parameter_sample)\n",
    "    \n",
    "    #Now, let's run the model\n",
    "    adr_for_romtools.run_model(os.getcwd(),parameter_sample)\n",
    "\n",
    "    #We can look at a solution\n",
    "    sol = np.load('solution.npz')\n",
    "    plt.plot(sol['x'],sol['u'])\n",
    "    plt.xlabel(r'$x$')\n",
    "    plt.ylabel(r'$u$')\n",
    "\n",
    "    #We will finish by cleaning up the files we created\n",
    "    os.system('rm params.dat')\n",
    "    os.system('rm solution.npz')\n",
    "\n",
    "    #That's it! See the sampling tutorial for an example of how this model is used in a sampling workflow"
   ]
  }
 ],
 "metadata": {
  "kernelspec": {
   "display_name": "Python 3 (ipykernel)",
   "language": "python",
   "name": "python3"
  },
  "language_info": {
   "codemirror_mode": {
    "name": "ipython",
    "version": 3
   },
   "file_extension": ".py",
   "mimetype": "text/x-python",
   "name": "python",
   "nbconvert_exporter": "python",
   "pygments_lexer": "ipython3",
   "version": "3.9.7"
  }
 },
 "nbformat": 4,
 "nbformat_minor": 5
}
