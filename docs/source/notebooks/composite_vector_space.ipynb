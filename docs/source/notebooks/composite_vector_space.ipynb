{
 "cells": [
  {
   "cell_type": "markdown",
   "id": "f389f465-1007-443d-873b-d27bfa74cbc7",
   "metadata": {},
   "source": [
    "# Composite vector space tutorial\n",
    "\n",
    "In romtools, a composite vector space refers to multiple vector spaces that are stitched together into one vector space. \n",
    "The use case of a composite vector space is if you want to have independent basis functions for different DOFs (e.g., mass, momentum).\n",
    "\n",
    "In this tutorial you will learn:\n"
   ]
  },
  {
   "cell_type": "markdown",
   "id": "b5ccbccd",
   "metadata": {},
   "source": [
    "- How to construct a composite vector space that comprises several vector spaces stiched together\n",
    "\n"
   ]
  },
  {
   "cell_type": "markdown",
   "id": "f6383ae0",
   "metadata": {},
   "source": [
    "## Modules\n",
    "Here are the relevant modules for this example."
   ]
  },
  {
   "cell_type": "code",
   "execution_count": 8,
   "id": "358fb709-9c81-45a3-a871-2549de121580",
   "metadata": {},
   "outputs": [],
   "source": [
    "%%capture\n",
    "import romtools\n",
    "import numpy as np\n",
    "from matplotlib import pyplot as plt\n",
    "from romtools import vector_space, composite_vector_space"
   ]
  },
  {
   "cell_type": "markdown",
   "id": "0f547d8c",
   "metadata": {},
   "source": [
    "## Snapshots\n",
    "First, we load in snapshots from a FOM. We use pre-computed snapshots of the [1D Euler equations](https://pressio.github.io/pressio-demoapps/euler_1d_smooth.html) obtained using pressio-demo-apps."
   ]
  },
  {
   "cell_type": "code",
   "execution_count": 9,
   "id": "b1ffa4be-246c-44a9-b486-f517b9f7acb9",
   "metadata": {},
   "outputs": [],
   "source": [
    "snapshots = np.load('snapshots.npz')['snapshots']\n",
    "\n",
    "## The snapshots are in tensor form:\n",
    "n_vars, nx, nt = snapshots.shape"
   ]
  },
  {
   "cell_type": "markdown",
   "id": "4ce34068",
   "metadata": {},
   "source": [
    "Along the first axis we have snapshots of mass ($\\rho$), momentum ($\\rho u$), and energy ($\\rho E$), respectively.\n",
    "\n",
    "Note that romtools works with [tensor forms](https://pressio.github.io/rom-tools-and-workflows/romtools/vector_space.html)."
   ]
  },
  {
   "cell_type": "markdown",
   "id": "b3d4d0d1",
   "metadata": {},
   "source": [
    "## Basis Creation\n",
    "In this example, we make a composite vector space where each state variable in our snapshot matrix has its own basis. (This is often times referred to as \"vector POD\" in the literature).\n",
    "\n",
    "Like the last tutorial, let's create a [truncater](https://pressio.github.io/rom-tools-and-workflows/romtools/vector_space/utils/truncater.html) that controls for how we want to truncate our basis. This truncater is set to truncate the number of modes to capture 99.9% of the cumulative energy."
   ]
  },
  {
   "cell_type": "code",
   "execution_count": 10,
   "id": "217759fb-6ec9-4488-897b-e5b4db9f4b2c",
   "metadata": {},
   "outputs": [],
   "source": [
    "my_truncater = vector_space.utils.EnergyBasedTruncater(0.999)"
   ]
  },
  {
   "cell_type": "markdown",
   "id": "da5b74d3",
   "metadata": {},
   "source": [
    "Now, let's construct a vector space using POD for the **density variable only**."
   ]
  },
  {
   "cell_type": "code",
   "execution_count": 11,
   "id": "8dddecd2-01f7-4b7c-955e-456a1974fefb",
   "metadata": {},
   "outputs": [
    {
     "name": "stdout",
     "output_type": "stream",
     "text": [
      "The vector space for rho is of shape:  (1, 500, 4)\n"
     ]
    }
   ],
   "source": [
    "my_vector_space_rho = vector_space.VectorSpaceFromPOD(snapshots[0:1],truncater=my_truncater)\n",
    "\n",
    "#Let's look a the shape of our vector space:\n",
    "print('The vector space for rho is of shape: ', my_vector_space_rho.extents())"
   ]
  },
  {
   "cell_type": "markdown",
   "id": "f7a93ea3",
   "metadata": {},
   "source": [
    "Let's make vector spaces for the next two variables (momentum and energy)"
   ]
  },
  {
   "cell_type": "code",
   "execution_count": 12,
   "id": "90e36c9f-9587-479c-b943-a4857d30129d",
   "metadata": {},
   "outputs": [
    {
     "name": "stdout",
     "output_type": "stream",
     "text": [
      "The vector space for rhoU is of shape:  (1, 500, 31)\n",
      "The vector space for rhoE is of shape:  (1, 500, 6)\n"
     ]
    }
   ],
   "source": [
    "my_vector_space_rhoU = vector_space.VectorSpaceFromPOD(snapshots[1:2],truncater=my_truncater)\n",
    "print('The vector space for rhoU is of shape: ', my_vector_space_rhoU.extents())\n",
    "my_vector_space_rhoE = vector_space.VectorSpaceFromPOD(snapshots[2:3],truncater=my_truncater)\n",
    "print('The vector space for rhoE is of shape: ', my_vector_space_rhoE.extents())"
   ]
  },
  {
   "cell_type": "markdown",
   "id": "e1095d94",
   "metadata": {},
   "source": [
    "Now, we will create a composite vector space that stiches these three vector spaces together:"
   ]
  },
  {
   "cell_type": "code",
   "execution_count": 13,
   "id": "9555169a-4579-489b-a9b8-21e2c3a67545",
   "metadata": {},
   "outputs": [
    {
     "name": "stdout",
     "output_type": "stream",
     "text": [
      "The composite vector space is of shape:  [  3 500  41]\n"
     ]
    }
   ],
   "source": [
    "my_composite_vector_space = composite_vector_space.CompositeVectorSpace([my_vector_space_rho,my_vector_space_rhoU,my_vector_space_rhoE])\n",
    "\n",
    "# Let's look at the size of this vector space:\n",
    "print('The composite vector space is of shape: ' , my_composite_vector_space.extents())\n"
   ]
  },
  {
   "cell_type": "markdown",
   "id": "e2d89000",
   "metadata": {},
   "source": [
    "We see that the number of basis vectors is the sum of the individual vector spaces."
   ]
  },
  {
   "cell_type": "markdown",
   "id": "3b8f097c",
   "metadata": {},
   "source": [
    "### Viewing the Basis\n",
    "Let's view the sparsity pattern if we view this as a tradititional basis matrix.\n",
    "\n",
    "First, let's grab the basis."
   ]
  },
  {
   "cell_type": "code",
   "execution_count": 14,
   "id": "81b37134-431e-4f77-b214-31fea9df8199",
   "metadata": {},
   "outputs": [],
   "source": [
    "composite_basis = my_composite_vector_space.get_basis()"
   ]
  },
  {
   "cell_type": "markdown",
   "id": "2158448b",
   "metadata": {},
   "source": [
    "And then reshape it into a matrix. Note all of romtools uses order 'C' for reshaping."
   ]
  },
  {
   "cell_type": "code",
   "execution_count": 17,
   "id": "4fb79164",
   "metadata": {},
   "outputs": [],
   "source": [
    "basis_matrix = np.reshape(composite_basis,(composite_basis.shape[0]*composite_basis.shape[1],composite_basis.shape[2]),'C')"
   ]
  },
  {
   "cell_type": "markdown",
   "id": "bc318cd6",
   "metadata": {},
   "source": [
    "Finally, we can view the sparsity pattern of the basis."
   ]
  },
  {
   "cell_type": "code",
   "execution_count": 16,
   "id": "15c33d3a",
   "metadata": {},
   "outputs": [
    {
     "data": {
      "image/png": "[encoded data removed]",
      "text/plain": [
       "<Figure size 640x480 with 1 Axes>"
      ]
     },
     "metadata": {},
     "output_type": "display_data"
    }
   ],
   "source": [
    "plt.spy(basis_matrix)\n",
    "plt.gca().set_aspect(0.025)\n",
    "plt.show()"
   ]
  },
  {
   "cell_type": "markdown",
   "id": "c36c83dd",
   "metadata": {},
   "source": [
    "We see the basis has a block structure. This means that each state variable will effectively have their own reduced coordinates."
   ]
  }
 ],
 "metadata": {
  "kernelspec": {
   "display_name": "Python 3 (ipykernel)",
   "language": "python",
   "name": "python3"
  },
  "language_info": {
   "codemirror_mode": {
    "name": "ipython",
    "version": 3
   },
   "file_extension": ".py",
   "mimetype": "text/x-python",
   "name": "python",
   "nbconvert_exporter": "python",
   "pygments_lexer": "ipython3",
   "version": "3.11.9"
  }
 },
 "nbformat": 4,
 "nbformat_minor": 5
}
