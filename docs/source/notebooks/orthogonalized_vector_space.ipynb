{
 "cells": [
  {
   "cell_type": "markdown",
   "id": "f389f465-1007-443d-873b-d27bfa74cbc7",
   "metadata": {},
   "source": [
    "# Orthogonalized vector space tutorial\n",
    "\n",
    "In this tutorial you will learn:\n"
   ]
  },
  {
   "cell_type": "markdown",
   "id": "8e414f9d",
   "metadata": {},
   "source": [
    "- How to construct a vector space that is orthonormal in a custom inner product"
   ]
  },
  {
   "cell_type": "markdown",
   "id": "6242727a",
   "metadata": {},
   "source": [
    "## Modules\n",
    "Here are the relevant modules for this example."
   ]
  },
  {
   "cell_type": "code",
   "execution_count": 8,
   "id": "358fb709-9c81-45a3-a871-2549de121580",
   "metadata": {},
   "outputs": [],
   "source": [
    "%%capture\n",
    "import romtools\n",
    "import numpy as np\n",
    "from matplotlib import pyplot as plt\n",
    "from romtools import vector_space"
   ]
  },
  {
   "cell_type": "markdown",
   "id": "505ff072",
   "metadata": {},
   "source": [
    "## Snapshots\n",
    "First, we load in snapshots from a FOM. We use pre-computed snapshots of the [1D Euler equations](https://pressio.github.io/pressio-demoapps/euler_1d_smooth.html) obtained using pressio-demo-apps."
   ]
  },
  {
   "cell_type": "code",
   "execution_count": 9,
   "id": "b1ffa4be-246c-44a9-b486-f517b9f7acb9",
   "metadata": {},
   "outputs": [],
   "source": [
    "snapshots = np.load('snapshots.npz')['snapshots']\n",
    "\n",
    "# The snapshots are in tensor form:\n",
    "n_vars, nx, nt = snapshots.shape"
   ]
  },
  {
   "cell_type": "markdown",
   "id": "140e787c",
   "metadata": {},
   "source": [
    "Note that romtools works with [tensor forms](https://pressio.github.io/rom-tools-and-workflows/romtools/vector_space.html).\n",
    "\n",
    "As an example, we want to create a basis that is orthonormal w.r.p. to the cell volumes.\n",
    "In this example, the cell volume was `dx = 1/500`."
   ]
  },
  {
   "cell_type": "code",
   "execution_count": 10,
   "id": "217759fb-6ec9-4488-897b-e5b4db9f4b2c",
   "metadata": {},
   "outputs": [],
   "source": [
    "# Set dx\n",
    "dx = 1./500"
   ]
  },
  {
   "cell_type": "markdown",
   "id": "92b505fd",
   "metadata": {},
   "source": [
    "We will create a vector the size of a single snapshot that we wish to orthogonalize against."
   ]
  },
  {
   "cell_type": "code",
   "execution_count": 11,
   "id": "5d3653ad",
   "metadata": {},
   "outputs": [],
   "source": [
    "w = np.ones(snapshots[...,0].size)*dx"
   ]
  },
  {
   "cell_type": "markdown",
   "id": "149fab94",
   "metadata": {},
   "source": [
    "## Basis Creation\n",
    "This section goes over creating the basis.\n",
    "\n",
    "First, we create an [orthogonalizer](https://pressio.github.io/rom-tools-and-workflows/romtools/vector_space/utils/orthogonalizer.html)."
   ]
  },
  {
   "cell_type": "code",
   "execution_count": 12,
   "id": "905a5ede",
   "metadata": {},
   "outputs": [],
   "source": [
    "my_orthogonalizer = vector_space.utils.EuclideanVectorWeightedL2Orthogonalizer(w)"
   ]
  },
  {
   "cell_type": "markdown",
   "id": "7528e3e0",
   "metadata": {},
   "source": [
    "Like the last tutorial, let's create a [truncater](https://pressio.github.io/rom-tools-and-workflows/romtools/vector_space/utils/truncater.html) that controls for how we want to truncate our basis. This truncater is set to truncate the number of modes to capture 99.9% of the cumulative energy."
   ]
  },
  {
   "cell_type": "code",
   "execution_count": 13,
   "id": "9a640ff9",
   "metadata": {},
   "outputs": [],
   "source": [
    "my_truncater = vector_space.utils.EnergyBasedTruncater(0.999)"
   ]
  },
  {
   "cell_type": "markdown",
   "id": "874b557e",
   "metadata": {},
   "source": [
    "Now, let's construct a vector space using POD with our truncater and orthogonalizer"
   ]
  },
  {
   "cell_type": "code",
   "execution_count": 14,
   "id": "8dddecd2-01f7-4b7c-955e-456a1974fefb",
   "metadata": {},
   "outputs": [],
   "source": [
    "my_vector_space = vector_space.VectorSpaceFromPOD(snapshots,truncater=my_truncater,orthogonalizer=my_orthogonalizer)"
   ]
  },
  {
   "cell_type": "markdown",
   "id": "c7f45bc2",
   "metadata": {},
   "source": [
    "We do not do a deep copy of the snapshot matrix for performance reasons. Once a snapshot tensor is passed, we modify the data in place. \n",
    "\n",
    "We can grab the basis and shift vector from our defined `VectorSpace` function."
   ]
  },
  {
   "cell_type": "code",
   "execution_count": 15,
   "id": "889a8c93",
   "metadata": {},
   "outputs": [],
   "source": [
    "basis = my_vector_space.get_basis()\n",
    "shift_vector = my_vector_space.get_shift_vector()"
   ]
  },
  {
   "cell_type": "markdown",
   "id": "42cac0de",
   "metadata": {},
   "source": [
    "Now, let us view the first basis mode for density."
   ]
  },
  {
   "cell_type": "code",
   "execution_count": 16,
   "id": "ea1ecb50",
   "metadata": {},
   "outputs": [
    {
     "data": {
      "image/png": "[encoded data removed]",
      "text/plain": [
       "<Figure size 640x480 with 1 Axes>"
      ]
     },
     "metadata": {},
     "output_type": "display_data"
    }
   ],
   "source": [
    "#We can look at the density component of the first basis:\n",
    "plt.plot(basis[0,:,0])\n",
    "plt.xlabel(r'Index')\n",
    "plt.ylabel(r'$\\rho$')\n",
    "plt.show()"
   ]
  },
  {
   "cell_type": "markdown",
   "id": "de142a05",
   "metadata": {},
   "source": [
    "We can also check whether the basis is orthonormal in the desired inner product."
   ]
  },
  {
   "cell_type": "code",
   "execution_count": 17,
   "id": "90e36c9f-9587-479c-b943-a4857d30129d",
   "metadata": {},
   "outputs": [],
   "source": [
    "w = w.reshape(basis[...,0].shape)\n",
    "is_identity = np.einsum('ijk,ij,ijl->kl',basis,w,basis)\n",
    "assert(np.allclose(is_identity,np.eye(my_vector_space.extents()[-1])))"
   ]
  }
 ],
 "metadata": {
  "kernelspec": {
   "display_name": "Python 3 (ipykernel)",
   "language": "python",
   "name": "python3"
  },
  "language_info": {
   "codemirror_mode": {
    "name": "ipython",
    "version": 3
   },
   "file_extension": ".py",
   "mimetype": "text/x-python",
   "name": "python",
   "nbconvert_exporter": "python",
   "pygments_lexer": "ipython3",
   "version": "3.11.9"
  }
 },
 "nbformat": 4,
 "nbformat_minor": 5
}
