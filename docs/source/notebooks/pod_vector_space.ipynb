{
 "cells": [
  {
   "cell_type": "markdown",
   "id": "f389f465-1007-443d-873b-d27bfa74cbc7",
   "metadata": {},
   "source": [
    "# POD vector space tutorial\n",
    "\n",
    "In this tutorial you will learn:\n"
   ]
  },
  {
   "cell_type": "markdown",
   "id": "70c55f2d",
   "metadata": {},
   "source": [
    "- How to construct a vector space using proper orthogonal decomposition\n"
   ]
  },
  {
   "cell_type": "markdown",
   "id": "57df6553",
   "metadata": {},
   "source": [
    "- How to use a truncater"
   ]
  },
  {
   "cell_type": "markdown",
   "id": "c9a0a245",
   "metadata": {},
   "source": [
    "## Modules"
   ]
  },
  {
   "cell_type": "markdown",
   "id": "4dbd2d4e",
   "metadata": {},
   "source": [
    "Here are the relevant modules for this example."
   ]
  },
  {
   "cell_type": "code",
   "execution_count": 22,
   "id": "358fb709-9c81-45a3-a871-2549de121580",
   "metadata": {},
   "outputs": [],
   "source": [
    "%%capture\n",
    "import romtools\n",
    "import numpy as np\n",
    "from matplotlib import pyplot as plt\n",
    "from romtools import vector_space"
   ]
  },
  {
   "cell_type": "markdown",
   "id": "fc7f06cd",
   "metadata": {},
   "source": [
    "## Snapshots\n",
    "First, we load in snapshots from a FOM. We use pre-computed snapshots of the [1D Euler equations](https://pressio.github.io/pressio-demoapps/euler_1d_smooth.html) obtained using pressio-demo-apps."
   ]
  },
  {
   "cell_type": "code",
   "execution_count": 23,
   "id": "b1ffa4be-246c-44a9-b486-f517b9f7acb9",
   "metadata": {},
   "outputs": [],
   "source": [
    "snapshots = np.load('snapshots.npz')['snapshots']\n",
    "\n",
    "# The snapshots are in tensor form:\n",
    "n_vars, nx, nt = snapshots.shape"
   ]
  },
  {
   "cell_type": "markdown",
   "id": "a42df464",
   "metadata": {},
   "source": [
    "Note that romtools works with [tensor forms](https://pressio.github.io/rom-tools-and-workflows/romtools/vector_space.html)."
   ]
  },
  {
   "cell_type": "markdown",
   "id": "8e63a559",
   "metadata": {},
   "source": [
    "## Basis Creation\n",
    "\n",
    "Next, we make a dictionary basis (with no truncation) that uses the first vector as an affine offset.\n",
    "\n",
    "We create a [\"shifter\"](https://pressio.github.io/rom-tools-and-workflows/romtools/vector_space/utils/shifter.html) that is responsible for shifting snapshots."
   ]
  },
  {
   "cell_type": "code",
   "execution_count": 24,
   "id": "217759fb-6ec9-4488-897b-e5b4db9f4b2c",
   "metadata": {},
   "outputs": [],
   "source": [
    "my_shifter = vector_space.utils.create_firstvec_shifter(snapshots)\n"
   ]
  },
  {
   "cell_type": "markdown",
   "id": "6becb5be",
   "metadata": {},
   "source": [
    "Then, we create a [truncater](https://pressio.github.io/rom-tools-and-workflows/romtools/vector_space/utils/truncater.html) that controls for how we want to truncate our basis. We use here an energy-based criterion setting the number of modes to capture 99.9% of the cumulative energy."
   ]
  },
  {
   "cell_type": "code",
   "execution_count": 25,
   "id": "4b46cb9d",
   "metadata": {},
   "outputs": [],
   "source": [
    "my_truncater = vector_space.utils.EnergyBasedTruncater(0.999)"
   ]
  },
  {
   "cell_type": "markdown",
   "id": "56beb7d0",
   "metadata": {},
   "source": [
    "We then construct an affine vector space using POD with our shifter and truncater.\n",
    "Note that we don't use the first snapshot in the vector space since this is the affine offset"
   ]
  },
  {
   "cell_type": "code",
   "execution_count": 26,
   "id": "8dddecd2-01f7-4b7c-955e-456a1974fefb",
   "metadata": {},
   "outputs": [],
   "source": [
    "my_affine_vector_space = vector_space.VectorSpaceFromPOD(snapshots[...,1::],truncater=my_truncater,shifter=my_shifter)\n"
   ]
  },
  {
   "cell_type": "markdown",
   "id": "90c6df4a",
   "metadata": {},
   "source": [
    "We do not do a deep copy of the snapshot matrix for performance reasons. Once a snapshot tensor is passed, we modify the data in place. \n",
    "\n",
    "We can grab the basis and shift vector from our defined `VectorSpace` function."
   ]
  },
  {
   "cell_type": "code",
   "execution_count": 27,
   "id": "bcfaf2c9",
   "metadata": {},
   "outputs": [],
   "source": [
    "basis = my_affine_vector_space.get_basis()\n",
    "shift_vector = my_affine_vector_space.get_shift_vector()\n",
    "\n"
   ]
  },
  {
   "cell_type": "markdown",
   "id": "8fa1aa17",
   "metadata": {},
   "source": [
    "Now, let us view the first basis mode for density."
   ]
  },
  {
   "cell_type": "code",
   "execution_count": 28,
   "id": "285b98f3",
   "metadata": {},
   "outputs": [
    {
     "data": {
      "image/png": "[encoded data removed]",
      "text/plain": [
       "<Figure size 640x480 with 1 Axes>"
      ]
     },
     "metadata": {},
     "output_type": "display_data"
    }
   ],
   "source": [
    "#We can look at the density component of the first basis:\n",
    "plt.plot(basis[0,:,0])\n",
    "plt.xlabel(r'Index')\n",
    "plt.ylabel(r'$\\rho$')\n",
    "plt.show()"
   ]
  },
  {
   "cell_type": "markdown",
   "id": "49ce6764",
   "metadata": {},
   "source": [
    "And let us check the dimension of the vector space."
   ]
  },
  {
   "cell_type": "code",
   "execution_count": 29,
   "id": "8d254c75-a66f-4168-9815-8674e11ec572",
   "metadata": {},
   "outputs": [
    {
     "name": "stdout",
     "output_type": "stream",
     "text": [
      "The dimension of the vector space is  (3, 500, 30)\n",
      "The number of basis vectors in my vector space is  30\n"
     ]
    }
   ],
   "source": [
    "print(\"The dimension of the vector space is \" , my_affine_vector_space.extents())\n",
    "print(\"The number of basis vectors in my vector space is \" , my_affine_vector_space.extents()[-1])"
   ]
  },
  {
   "cell_type": "markdown",
   "id": "42b6d09e",
   "metadata": {},
   "source": [
    "We can also check whether the basis is orthonormal."
   ]
  },
  {
   "cell_type": "code",
   "execution_count": 30,
   "id": "90e36c9f-9587-479c-b943-a4857d30129d",
   "metadata": {},
   "outputs": [],
   "source": [
    "is_identity = np.einsum('ijk,ijl->kl',basis,basis)\n",
    "assert(np.allclose(is_identity,np.eye(30)))"
   ]
  }
 ],
 "metadata": {
  "kernelspec": {
   "display_name": "Python 3 (ipykernel)",
   "language": "python",
   "name": "python3"
  },
  "language_info": {
   "codemirror_mode": {
    "name": "ipython",
    "version": 3
   },
   "file_extension": ".py",
   "mimetype": "text/x-python",
   "name": "python",
   "nbconvert_exporter": "python",
   "pygments_lexer": "ipython3",
   "version": "3.11.9"
  }
 },
 "nbformat": 4,
 "nbformat_minor": 5
}
