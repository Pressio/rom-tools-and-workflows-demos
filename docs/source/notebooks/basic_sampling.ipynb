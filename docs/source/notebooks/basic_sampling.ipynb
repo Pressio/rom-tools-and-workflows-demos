{
 "cells": [
  {
   "cell_type": "markdown",
   "id": "f389f465-1007-443d-873b-d27bfa74cbc7",
   "metadata": {},
   "source": [
    "# Basic sampling tutorial\n",
    "\n",
    "In this tutorial you will learn the basics of the sampling workflow. This tutorial builds off of the external model tutorial. The API for the sampling interface is provided [here](https://pressio.github.io/rom-tools-and-workflows/romtools/workflows/sampling/sampling.html)."
   ]
  },
  {
   "cell_type": "markdown",
   "id": "8f12cd08",
   "metadata": {},
   "source": [
    "## Modules\n",
    "Here are the relevant modules for this example."
   ]
  },
  {
   "cell_type": "code",
   "execution_count": 1,
   "id": "358fb709-9c81-45a3-a871-2549de121580",
   "metadata": {},
   "outputs": [
    {
     "name": "stderr",
     "output_type": "stream",
     "text": [
      "[s1067086ca:26955] shmem: mmap: an error occurred while determining whether or not /var/folders/cl/5gkmlky11v3_hw7tzm3l_y6h003hgz/T//ompi.s1067086ca.115199/jf.0/1645936640/sm_segment.s1067086ca.115199.621b0000.0 could be created.\n"
     ]
    }
   ],
   "source": [
    "%%capture\n",
    "import romtools\n",
    "import os\n",
    "import numpy as np\n",
    "from matplotlib import pyplot as plt\n",
    "from romtools.workflows import sampling\n",
    "from romtools.workflows import ParameterSpace"
   ]
  },
  {
   "cell_type": "markdown",
   "id": "a6438aad",
   "metadata": {},
   "source": [
    "## Model Definition\n",
    "As a starting point, we will use the model for the advection diffusion equation created in the `external_model` tutorial."
   ]
  },
  {
   "cell_type": "code",
   "execution_count": 2,
   "id": "8dddecd2-01f7-4b7c-955e-456a1974fefb",
   "metadata": {},
   "outputs": [
    {
     "ename": "SyntaxError",
     "evalue": "invalid syntax (external_model.ipynb, line 16)",
     "output_type": "error",
     "traceback": [
      "Traceback \u001b[0;36m(most recent call last)\u001b[0m:\n",
      "\u001b[0m  File \u001b[1;32m~/.pyenv/versions/3.11.9/lib/python3.11/site-packages/IPython/core/interactiveshell.py:3577\u001b[0m in \u001b[1;35mrun_code\u001b[0m\n    exec(code_obj, self.user_global_ns, self.user_ns)\u001b[0m\n",
      "\u001b[0m  Cell \u001b[1;32mIn[2], line 1\u001b[0m\n    from ipynb.fs.full.external_model import adrExternalRomToolsModel\u001b[0m\n",
      "\u001b[0m  File \u001b[1;32m<frozen importlib._bootstrap>:1176\u001b[0m in \u001b[1;35m_find_and_load\u001b[0m\n",
      "\u001b[0m  File \u001b[1;32m<frozen importlib._bootstrap>:1147\u001b[0m in \u001b[1;35m_find_and_load_unlocked\u001b[0m\n",
      "\u001b[0m  File \u001b[1;32m<frozen importlib._bootstrap>:690\u001b[0m in \u001b[1;35m_load_unlocked\u001b[0m\n",
      "\u001b[0m  File \u001b[1;32m<frozen importlib._bootstrap_external>:936\u001b[0m in \u001b[1;35mexec_module\u001b[0m\n",
      "\u001b[0;36m  File \u001b[0;32m~/.pyenv/versions/3.11.9/lib/python3.11/site-packages/ipynb/fs/full/__init__.py:43\u001b[0;36m in \u001b[0;35mget_code\u001b[0;36m\n\u001b[0;31m    return self.source_to_code(code_from_ipynb(nb), self.path)\u001b[0;36m\n",
      "\u001b[0;36m  File \u001b[0;32m~/codes/pressio/rom-tools-and-workflows-demos/docs/source/notebooks/external_model.ipynb:16\u001b[0;36m\u001b[0m\n\u001b[0;31m    \"metadata\": {},\u001b[0m\n\u001b[0m    ^\u001b[0m\n\u001b[0;31mSyntaxError\u001b[0m\u001b[0;31m:\u001b[0m invalid syntax\n"
     ]
    }
   ],
   "source": [
    "from ipynb.fs.full.external_model import adrExternalRomToolsModel\n",
    "myModel = adrExternalRomToolsModel()"
   ]
  },
  {
   "cell_type": "markdown",
   "id": "4265109b",
   "metadata": {},
   "source": [
    "## Parameter Space\n",
    "We will use the parameter space created in the parameter space tutorial."
   ]
  },
  {
   "cell_type": "code",
   "execution_count": null,
   "id": "c361711a",
   "metadata": {},
   "outputs": [],
   "source": [
    "from ipynb.fs.full.parameter_space import BasicParameterSpace\n",
    "myParameterSpace = BasicParameterSpace()"
   ]
  },
  {
   "cell_type": "markdown",
   "id": "7bc473fd",
   "metadata": {},
   "source": [
    "## Sampling\n",
    "The sampling algorithm requires a directory argument of where to put all the generated samples, files, etc."
   ]
  },
  {
   "cell_type": "code",
   "execution_count": null,
   "id": "fcbe7512",
   "metadata": {},
   "outputs": [],
   "source": [
    "work_directory = os.getcwd() + '/sampling_tutorial/'"
   ]
  },
  {
   "cell_type": "markdown",
   "id": "8bd3e71d",
   "metadata": {},
   "source": [
    "Now we can run the sampling algorithm."
   ]
  },
  {
   "cell_type": "code",
   "execution_count": null,
   "id": "d134b28e",
   "metadata": {},
   "outputs": [],
   "source": [
    "sample_directories = sampling.run_sampling(\n",
    "    \tmodel = myModel,\n",
    "    \tparameter_space = myParameterSpace,\n",
    "    \tabsolute_sampling_directory=work_directory,\n",
    "        number_of_samples = 5)"
   ]
  },
  {
   "cell_type": "markdown",
   "id": "9cd2992a",
   "metadata": {},
   "source": [
    "The sample_directories returned by the algorithm contains all the directories that samples were run in:\n",
    "\n",
    "- work_directory/run_0\n",
    "\n",
    "- work_directory/run_1\n",
    "\n",
    "- ...\n",
    "\n",
    "- work_directory/run_4\n",
    "\n",
    "Now we can look at the solutions."
   ]
  },
  {
   "cell_type": "code",
   "execution_count": null,
   "id": "4d3d83b7-2fa1-47ab-8dd6-f656511fc7fa",
   "metadata": {},
   "outputs": [],
   "source": [
    "for (i,sample_dir) in enumerate(sample_directories):\n",
    "    data = np.load(sample_dir + '/solution.npz')\n",
    "    plt.plot(data['x'],data['u'],label='Run ' + str(i))\n",
    "\n",
    "plt.legend()\n",
    "plt.xlabel(r'$x$')\n",
    "plt.ylabel(r'$u$')\n",
    "plt.show()"
   ]
  },
  {
   "cell_type": "markdown",
   "id": "59a12fe4",
   "metadata": {},
   "source": [
    "That's it!"
   ]
  }
 ],
 "metadata": {
  "kernelspec": {
   "display_name": "Python 3 (ipykernel)",
   "language": "python",
   "name": "python3"
  },
  "language_info": {
   "codemirror_mode": {
    "name": "ipython",
    "version": 3
   },
   "file_extension": ".py",
   "mimetype": "text/x-python",
   "name": "python",
   "nbconvert_exporter": "python",
   "pygments_lexer": "ipython3",
   "version": "3.11.9"
  }
 },
 "nbformat": 4,
 "nbformat_minor": 5
}
